{
  "nbformat": 4,
  "nbformat_minor": 0,
  "metadata": {
    "colab": {
      "provenance": [],
      "authorship_tag": "ABX9TyP1hfTLjjJQDpRhfjgYuogi",
      "include_colab_link": true
    },
    "kernelspec": {
      "name": "python3",
      "display_name": "Python 3"
    },
    "language_info": {
      "name": "python"
    }
  },
  "cells": [
    {
      "cell_type": "markdown",
      "metadata": {
        "id": "view-in-github",
        "colab_type": "text"
      },
      "source": [
        "<a href=\"https://colab.research.google.com/github/kimsierra/R-course/blob/main/Untitled3.ipynb\" target=\"_parent\"><img src=\"https://colab.research.google.com/assets/colab-badge.svg\" alt=\"Open In Colab\"/></a>"
      ]
    },
    {
      "cell_type": "markdown",
      "source": [
        "# Python에서 제공하는 문자열 내장함수"
      ],
      "metadata": {
        "id": "rb2GIr-ux5F9"
      }
    },
    {
      "cell_type": "code",
      "source": [
        "# 문자열의 길이를 출력\n",
        "a = 'Hello'\n",
        "b = ' Hello '"
      ],
      "metadata": {
        "id": "lOkg0GjVyE9Z"
      },
      "execution_count": null,
      "outputs": []
    },
    {
      "cell_type": "code",
      "source": [
        "print(len(a))\n",
        "print(len(b))"
      ],
      "metadata": {
        "colab": {
          "base_uri": "https://localhost:8080/"
        },
        "id": "MQqpjRwVyQk3",
        "outputId": "0946e289-d74a-4a8f-e819-5ceebfad12a6"
      },
      "execution_count": null,
      "outputs": [
        {
          "output_type": "stream",
          "name": "stdout",
          "text": [
            "5\n",
            "7\n"
          ]
        }
      ]
    },
    {
      "cell_type": "code",
      "source": [
        "## 문자의 현태를 변환 (대,소문자 변환)\n",
        "a = \"Hello world\"\n",
        "\n",
        "# 문자를 모두 대문자로 변환하는 함수\n",
        "print(a.upper())\n",
        "# 문자를 모두 소문자로 변환하는 함수\n",
        "print(a.lower())\n",
        "# 문자의 대문자를 소문자로, 소문자를 대문자로 변환\n",
        "print(a.swapcase())\n",
        "# 단어의 첫글자를 대문자로 변환\n",
        "print(a.title())"
      ],
      "metadata": {
        "colab": {
          "base_uri": "https://localhost:8080/"
        },
        "id": "yjk9gi_lyUmk",
        "outputId": "40343826-b468-457a-b85b-8cc9a61596d3"
      },
      "execution_count": null,
      "outputs": [
        {
          "output_type": "stream",
          "name": "stdout",
          "text": [
            "HELLO WORLD\n",
            "hello world\n",
            "hELLO WORLD\n",
            "Hello World\n"
          ]
        }
      ]
    },
    {
      "cell_type": "code",
      "source": [
        "print(a)"
      ],
      "metadata": {
        "colab": {
          "base_uri": "https://localhost:8080/"
        },
        "id": "bdZ92nwQy0Hp",
        "outputId": "a569e0a2-6e3d-48fa-a81d-a760a63fc61d"
      },
      "execution_count": null,
      "outputs": [
        {
          "output_type": "stream",
          "name": "stdout",
          "text": [
            "Hello world\n"
          ]
        }
      ]
    },
    {
      "cell_type": "code",
      "source": [
        "_list = [4, 3, 2, 6]\n",
        "print(_list.sort())"
      ],
      "metadata": {
        "colab": {
          "base_uri": "https://localhost:8080/"
        },
        "id": "JHZpcf5JzAM3",
        "outputId": "e350e29a-6bfa-43f1-eb6d-cc4885983fb5"
      },
      "execution_count": null,
      "outputs": [
        {
          "output_type": "stream",
          "name": "stdout",
          "text": [
            "None\n"
          ]
        }
      ]
    },
    {
      "cell_type": "code",
      "source": [
        "## 문자열의 좌우의 공백을 제거하는 함수\n",
        "test_text = \"  Hello World  \"\n",
        "test_text"
      ],
      "metadata": {
        "colab": {
          "base_uri": "https://localhost:8080/",
          "height": 36
        },
        "id": "wW2iIrykzloD",
        "outputId": "116ce07a-adc3-469e-b04f-19217d8a9143"
      },
      "execution_count": null,
      "outputs": [
        {
          "output_type": "execute_result",
          "data": {
            "text/plain": [
              "'  Hello World  '"
            ],
            "application/vnd.google.colaboratory.intrinsic+json": {
              "type": "string"
            }
          },
          "metadata": {},
          "execution_count": 8
        }
      ]
    },
    {
      "cell_type": "code",
      "source": [
        "## 양쪽의 공백을 모두 제거 : strip()\n",
        "test_text.strip()"
      ],
      "metadata": {
        "colab": {
          "base_uri": "https://localhost:8080/",
          "height": 36
        },
        "id": "CEKsuK1L0jfk",
        "outputId": "0ca03a72-c433-42a7-b23f-08b0b00fbe68"
      },
      "execution_count": null,
      "outputs": [
        {
          "output_type": "execute_result",
          "data": {
            "text/plain": [
              "'Hello World'"
            ],
            "application/vnd.google.colaboratory.intrinsic+json": {
              "type": "string"
            }
          },
          "metadata": {},
          "execution_count": 9
        }
      ]
    },
    {
      "cell_type": "code",
      "source": [
        "## 좌측의 공백을 제거 : lstrip()\n",
        "## 우측의 공백을 제거 : rstrip()\n",
        "test_text.lstrip()"
      ],
      "metadata": {
        "colab": {
          "base_uri": "https://localhost:8080/",
          "height": 36
        },
        "id": "EVI_RgG_0wZp",
        "outputId": "03480046-3579-4217-9fe3-7d9d363ed76b"
      },
      "execution_count": null,
      "outputs": [
        {
          "output_type": "execute_result",
          "data": {
            "text/plain": [
              "'Hello World  '"
            ],
            "application/vnd.google.colaboratory.intrinsic+json": {
              "type": "string"
            }
          },
          "metadata": {},
          "execution_count": 10
        }
      ]
    },
    {
      "cell_type": "code",
      "source": [
        "test_text.rstrip()"
      ],
      "metadata": {
        "colab": {
          "base_uri": "https://localhost:8080/",
          "height": 36
        },
        "id": "6ZVmBAyY1FlF",
        "outputId": "292971fc-d741-4113-b487-7a96237b8b6f"
      },
      "execution_count": null,
      "outputs": [
        {
          "output_type": "execute_result",
          "data": {
            "text/plain": [
              "'  Hello World'"
            ],
            "application/vnd.google.colaboratory.intrinsic+json": {
              "type": "string"
            }
          },
          "metadata": {},
          "execution_count": 11
        }
      ]
    },
    {
      "cell_type": "code",
      "source": [
        "test = '$100'\n",
        "print(type(test))"
      ],
      "metadata": {
        "colab": {
          "base_uri": "https://localhost:8080/"
        },
        "id": "u31oriHh1Jvl",
        "outputId": "a73a2b13-519d-4763-dfd2-11ce67ebb8c8"
      },
      "execution_count": null,
      "outputs": [
        {
          "output_type": "stream",
          "name": "stdout",
          "text": [
            "<class 'str'>\n"
          ]
        }
      ]
    },
    {
      "cell_type": "code",
      "source": [
        "int(test.lstrip('$'))"
      ],
      "metadata": {
        "colab": {
          "base_uri": "https://localhost:8080/"
        },
        "id": "JiAJbM7R1Xvr",
        "outputId": "758885b7-8b3c-4bc8-9f11-902546a1479e"
      },
      "execution_count": null,
      "outputs": [
        {
          "output_type": "execute_result",
          "data": {
            "text/plain": [
              "100"
            ]
          },
          "metadata": {},
          "execution_count": 13
        }
      ]
    },
    {
      "cell_type": "code",
      "source": [
        "print(test)\n",
        "test = test.lstrip('$')\n",
        "print(test)\n",
        "print(type(test))\n",
        "test = int(test)\n",
        "print(test)\n",
        "print(type(test))"
      ],
      "metadata": {
        "colab": {
          "base_uri": "https://localhost:8080/"
        },
        "id": "oDZn-ssP1hZq",
        "outputId": "190be659-ca52-4896-94a8-71be2ca73f95"
      },
      "execution_count": null,
      "outputs": [
        {
          "output_type": "stream",
          "name": "stdout",
          "text": [
            "$100\n",
            "100\n",
            "<class 'str'>\n",
            "100\n",
            "<class 'int'>\n"
          ]
        }
      ]
    },
    {
      "cell_type": "code",
      "source": [
        "a = 'Hello world'\n",
        "b = ' Hello WORLD '\n",
        "a == b"
      ],
      "metadata": {
        "colab": {
          "base_uri": "https://localhost:8080/"
        },
        "id": "6iSMSysL2Ele",
        "outputId": "0ffda924-5bec-4ad7-b498-ab13372a599b"
      },
      "execution_count": null,
      "outputs": [
        {
          "output_type": "execute_result",
          "data": {
            "text/plain": [
              "False"
            ]
          },
          "metadata": {},
          "execution_count": 20
        }
      ]
    },
    {
      "cell_type": "code",
      "source": [
        "# a 와 b 같게 만들기\n",
        "b = b.strip()\n",
        "a = a.upper()\n",
        "b = b.upper()\n",
        "print (a)\n",
        "print (b)"
      ],
      "metadata": {
        "colab": {
          "base_uri": "https://localhost:8080/"
        },
        "id": "RSljBh1K2S58",
        "outputId": "100c1c4c-410f-40ec-9cb7-7e18699adc25"
      },
      "execution_count": null,
      "outputs": [
        {
          "output_type": "stream",
          "name": "stdout",
          "text": [
            "HELLO WORLD\n",
            "HELLO WORLD\n"
          ]
        }
      ]
    },
    {
      "cell_type": "code",
      "source": [
        "a == b"
      ],
      "metadata": {
        "colab": {
          "base_uri": "https://localhost:8080/"
        },
        "id": "oG9WSkLz2oKB",
        "outputId": "cc7fd5f0-5655-43aa-c936-99c8a97ce040"
      },
      "execution_count": null,
      "outputs": [
        {
          "output_type": "execute_result",
          "data": {
            "text/plain": [
              "True"
            ]
          },
          "metadata": {},
          "execution_count": 23
        }
      ]
    },
    {
      "cell_type": "code",
      "source": [
        "## 특정 문자를 다른 문자로 치환하는 함수\n",
        "## replace({특정문자},{치환할 문자})\n",
        "a.replace('HELLO','HI')"
      ],
      "metadata": {
        "colab": {
          "base_uri": "https://localhost:8080/",
          "height": 36
        },
        "id": "iwbtkj1O35Bf",
        "outputId": "c8b6c731-4c27-4538-8f86-1f73a0b41cf9"
      },
      "execution_count": null,
      "outputs": [
        {
          "output_type": "execute_result",
          "data": {
            "text/plain": [
              "'HI WORLD'"
            ],
            "application/vnd.google.colaboratory.intrinsic+json": {
              "type": "string"
            }
          },
          "metadata": {},
          "execution_count": 24
        }
      ]
    },
    {
      "cell_type": "code",
      "source": [
        "a = '상 품 A'\n",
        "b = '상품a'\n",
        "a == b"
      ],
      "metadata": {
        "colab": {
          "base_uri": "https://localhost:8080/"
        },
        "id": "QfEIuP4x719H",
        "outputId": "256d622a-cfb6-4faa-e15d-c23078a2c310"
      },
      "execution_count": null,
      "outputs": [
        {
          "output_type": "execute_result",
          "data": {
            "text/plain": [
              "False"
            ]
          },
          "metadata": {},
          "execution_count": 25
        }
      ]
    },
    {
      "cell_type": "code",
      "source": [
        "# a 변수의 데이터의 문자열 사이의 공백을 제거\n",
        "# b 변수의 데이터는 모두 대문자로 변환\n",
        "b = b.upper()\n",
        "a = a.replace(' ','')\n",
        "a == b"
      ],
      "metadata": {
        "colab": {
          "base_uri": "https://localhost:8080/"
        },
        "id": "pv3ohK6K8BjF",
        "outputId": "980f2694-d4d0-4a23-b0e0-e6b55827f8bd"
      },
      "execution_count": null,
      "outputs": [
        {
          "output_type": "execute_result",
          "data": {
            "text/plain": [
              "True"
            ]
          },
          "metadata": {},
          "execution_count": 28
        }
      ]
    },
    {
      "cell_type": "code",
      "source": [
        "# 특정 문자열을 기준으로 문자열을 나눠주는 함수\n",
        "# split() -> 인자 값을 기본 값으로 공백\n",
        "a = 'a b c d'\n",
        "print(a)\n"
      ],
      "metadata": {
        "colab": {
          "base_uri": "https://localhost:8080/"
        },
        "id": "7LAMSFLu8g4z",
        "outputId": "1fe64175-6159-4cf5-f790-50d3bb8bad4c"
      },
      "execution_count": null,
      "outputs": [
        {
          "output_type": "stream",
          "name": "stdout",
          "text": [
            "a b c d\n"
          ]
        }
      ]
    },
    {
      "cell_type": "code",
      "source": [
        "print(a.split())"
      ],
      "metadata": {
        "colab": {
          "base_uri": "https://localhost:8080/"
        },
        "id": "yKgKAi1T9hGR",
        "outputId": "9ac07d46-585a-41ee-95e3-9ed871882732"
      },
      "execution_count": null,
      "outputs": [
        {
          "output_type": "stream",
          "name": "stdout",
          "text": [
            "['a', 'b', 'c', 'd']\n"
          ]
        }
      ]
    },
    {
      "cell_type": "code",
      "source": [
        "b = '1/2/3/4/5/6'\n",
        "print(b.split('/'))"
      ],
      "metadata": {
        "colab": {
          "base_uri": "https://localhost:8080/"
        },
        "id": "y9Zz0a629loH",
        "outputId": "77e9b353-ec7c-4312-f8c1-37c25c2eafee"
      },
      "execution_count": null,
      "outputs": [
        {
          "output_type": "stream",
          "name": "stdout",
          "text": [
            "['1', '2', '3', '4', '5', '6']\n"
          ]
        }
      ]
    },
    {
      "cell_type": "code",
      "source": [
        "sql_data = \"\"\"\n",
        "  select\n",
        "  *\n",
        "  from\n",
        "  user\n",
        "\"\"\"\n",
        "\n"
      ],
      "metadata": {
        "id": "PZTpXKL09wJG"
      },
      "execution_count": null,
      "outputs": []
    },
    {
      "cell_type": "code",
      "source": [
        "sql_data.strip().split()[0]"
      ],
      "metadata": {
        "colab": {
          "base_uri": "https://localhost:8080/",
          "height": 36
        },
        "id": "cxbVfwS9_eqE",
        "outputId": "d04f3b68-3540-4a3d-b89b-209b1b3deaf8"
      },
      "execution_count": null,
      "outputs": [
        {
          "output_type": "execute_result",
          "data": {
            "text/plain": [
              "'select'"
            ],
            "application/vnd.google.colaboratory.intrinsic+json": {
              "type": "string"
            }
          },
          "metadata": {},
          "execution_count": 36
        }
      ]
    },
    {
      "cell_type": "code",
      "source": [
        "sql_data3 = \"\"\"\n",
        "  SELECT\n",
        "  *\n",
        "  FROM\n",
        "  user\n",
        "\"\"\""
      ],
      "metadata": {
        "id": "1Ph4pgXs_mux"
      },
      "execution_count": null,
      "outputs": []
    },
    {
      "cell_type": "code",
      "source": [
        "sql_data3.lower().strip().split()[0] == 'select'"
      ],
      "metadata": {
        "colab": {
          "base_uri": "https://localhost:8080/"
        },
        "id": "mQZYvYkmA-4Y",
        "outputId": "54f4041e-46d0-43bd-9a71-11b908f80111"
      },
      "execution_count": null,
      "outputs": [
        {
          "output_type": "execute_result",
          "data": {
            "text/plain": [
              "True"
            ]
          },
          "metadata": {},
          "execution_count": 40
        }
      ]
    },
    {
      "cell_type": "code",
      "source": [
        "sql_data3.lower().strip().startswith('select')"
      ],
      "metadata": {
        "colab": {
          "base_uri": "https://localhost:8080/"
        },
        "id": "wiWqEyCEBjIb",
        "outputId": "25299b41-609e-4228-d950-a9b84053ddea"
      },
      "execution_count": null,
      "outputs": [
        {
          "output_type": "execute_result",
          "data": {
            "text/plain": [
              "True"
            ]
          },
          "metadata": {},
          "execution_count": 41
        }
      ]
    },
    {
      "cell_type": "markdown",
      "source": [
        "### 일반 함수\n",
        " - 어떠한 입력값을 가지고 작업을 실행하고 결과물을 되돌려주는 기능"
      ],
      "metadata": {
        "id": "lCIH2ITaC3vW"
      }
    },
    {
      "cell_type": "code",
      "source": [
        "def func_1(a, b):\n",
        "  result = a + b\n",
        "  return result\n",
        "\n",
        "def func_2(a, b):\n",
        "  result = a + b\n",
        "  print(result)\n"
      ],
      "metadata": {
        "id": "0KnDrLaQC545"
      },
      "execution_count": null,
      "outputs": []
    },
    {
      "cell_type": "code",
      "source": [
        "test = func_1(3,6)"
      ],
      "metadata": {
        "id": "crdDK7nfDQTM"
      },
      "execution_count": null,
      "outputs": []
    },
    {
      "cell_type": "code",
      "source": [
        "test2 = func_2(3,6)"
      ],
      "metadata": {
        "colab": {
          "base_uri": "https://localhost:8080/"
        },
        "id": "jBqbyCzNDULc",
        "outputId": "4b57e0c5-a404-474b-f404-f99b6866e11d"
      },
      "execution_count": null,
      "outputs": [
        {
          "output_type": "stream",
          "name": "stdout",
          "text": [
            "9\n"
          ]
        }
      ]
    },
    {
      "cell_type": "code",
      "source": [
        "print(test)\n",
        "print(test2)"
      ],
      "metadata": {
        "colab": {
          "base_uri": "https://localhost:8080/"
        },
        "id": "U3-HOUN_DsQF",
        "outputId": "00ea699b-8b4f-41b8-9413-66f17df093cb"
      },
      "execution_count": null,
      "outputs": [
        {
          "output_type": "stream",
          "name": "stdout",
          "text": [
            "9\n",
            "None\n"
          ]
        }
      ]
    },
    {
      "cell_type": "code",
      "source": [
        "## 인자의 개수가 가변인 경우 함수 생성\n",
        "def func_3(*args):\n",
        "  print(type(args))\n",
        "  print(args)\n",
        "  print(len(args))"
      ],
      "metadata": {
        "id": "UQIaY5lpD7F6"
      },
      "execution_count": null,
      "outputs": []
    },
    {
      "cell_type": "code",
      "source": [
        "func_3(1,2,3,4,5)\n",
        "func_3(6,10,'test')"
      ],
      "metadata": {
        "colab": {
          "base_uri": "https://localhost:8080/"
        },
        "id": "oDMHPEQDEhvt",
        "outputId": "022bb62e-473a-4d5e-e18c-29f07abf831b"
      },
      "execution_count": null,
      "outputs": [
        {
          "output_type": "stream",
          "name": "stdout",
          "text": [
            "<class 'tuple'>\n",
            "(1, 2, 3, 4, 5)\n",
            "5\n",
            "<class 'tuple'>\n",
            "(6, 10, 'test')\n",
            "3\n"
          ]
        }
      ]
    },
    {
      "cell_type": "code",
      "source": [
        "## 매개 변수 2개 인 함수 만들기\n",
        "## 두 개의 매개변수 중 작은 값을 되돌려주는 함수 만들기\n",
        "def func_4(a,b):\n",
        "  if a < b:\n",
        "    return a\n",
        "  else:\n",
        "    return b"
      ],
      "metadata": {
        "id": "RwYMqpN3Eqwr"
      },
      "execution_count": null,
      "outputs": []
    },
    {
      "cell_type": "code",
      "source": [
        "func_4(10,4)"
      ],
      "metadata": {
        "colab": {
          "base_uri": "https://localhost:8080/"
        },
        "id": "FA2jGgKsFPWh",
        "outputId": "eadbc471-76d5-4867-d0f5-8bc5187eeb02"
      },
      "execution_count": null,
      "outputs": [
        {
          "output_type": "execute_result",
          "data": {
            "text/plain": [
              "4"
            ]
          },
          "metadata": {},
          "execution_count": 56
        }
      ]
    },
    {
      "cell_type": "code",
      "source": [
        "func_4(5,7)"
      ],
      "metadata": {
        "colab": {
          "base_uri": "https://localhost:8080/"
        },
        "id": "qDSEP5fNFSZi",
        "outputId": "52a0a9c7-709f-47c3-bdd5-a28a49800dfa"
      },
      "execution_count": null,
      "outputs": [
        {
          "output_type": "execute_result",
          "data": {
            "text/plain": [
              "5"
            ]
          },
          "metadata": {},
          "execution_count": 57
        }
      ]
    },
    {
      "cell_type": "code",
      "source": [
        "min(10,5,8,13,4,6)"
      ],
      "metadata": {
        "colab": {
          "base_uri": "https://localhost:8080/"
        },
        "id": "EuguCgj8FVRZ",
        "outputId": "56beeab3-7a21-4dc8-d95e-816a37c4b561"
      },
      "execution_count": null,
      "outputs": [
        {
          "output_type": "execute_result",
          "data": {
            "text/plain": [
              "4"
            ]
          },
          "metadata": {},
          "execution_count": 58
        }
      ]
    },
    {
      "cell_type": "code",
      "source": [],
      "metadata": {
        "id": "VP9y55uJFeJW"
      },
      "execution_count": null,
      "outputs": []
    },
    {
      "cell_type": "markdown",
      "source": [
        "#### 함수 문제\n",
        "- min() 함수를 똑같이 만들어보자\n",
        "  - 인자의 개수는 가변\n",
        "  - 지역변수 result를 생성하여 인자의 첫번째 값을 대입\n",
        "  - 각 인자의 값들을 비교하여 가장 작은 값을 지역 변수 result에 대입 후\n",
        "  - result를 되돌려준다"
      ],
      "metadata": {
        "id": "5OHjPvbSFkzE"
      }
    },
    {
      "cell_type": "code",
      "source": [
        "def func_5(*a):\n",
        "  result = a[0]\n",
        "  # case 1\n",
        "  #for i in range(1, len(a),1):\n",
        "   # if result > a[i]:\n",
        "    #  result = a[i]\n",
        "  # case 2\n",
        "  for i in a[1:]:\n",
        "    if result > i :\n",
        "      result = i\n",
        "  return result\n"
      ],
      "metadata": {
        "id": "SborRU65F9W1"
      },
      "execution_count": 63,
      "outputs": []
    },
    {
      "cell_type": "code",
      "source": [
        "func_5(3,5,7,1,2)"
      ],
      "metadata": {
        "colab": {
          "base_uri": "https://localhost:8080/"
        },
        "id": "oRu851K5JJNm",
        "outputId": "6001a360-4089-4f39-d16a-77677bc88b22"
      },
      "execution_count": 60,
      "outputs": [
        {
          "output_type": "execute_result",
          "data": {
            "text/plain": [
              "1"
            ]
          },
          "metadata": {},
          "execution_count": 60
        }
      ]
    },
    {
      "cell_type": "code",
      "source": [
        "## 평균 값을 되돌려주는 함수 생성\n",
        "## 인자의 개수는 가변\n",
        "def func_6(*args):\n",
        "  result = 0\n",
        "  cnt = 0\n",
        "  for i in args:\n",
        "    result += i\n",
        "    cnt += 1\n",
        "  #result = result / cnt\n",
        "  result /= cnt\n",
        "  return result"
      ],
      "metadata": {
        "id": "ikKaGjtQJNwj"
      },
      "execution_count": 68,
      "outputs": []
    },
    {
      "cell_type": "code",
      "source": [
        "func_6(1,2,3,4,5)"
      ],
      "metadata": {
        "colab": {
          "base_uri": "https://localhost:8080/"
        },
        "id": "PztBrfDWP2-C",
        "outputId": "b794fc47-adc2-43d3-ee0a-59367c9151c6"
      },
      "execution_count": 69,
      "outputs": [
        {
          "output_type": "execute_result",
          "data": {
            "text/plain": [
              "3.0"
            ]
          },
          "metadata": {},
          "execution_count": 69
        }
      ]
    },
    {
      "cell_type": "code",
      "source": [
        "# 매개변수 2개를 생성\n",
        "# 첫 번째 매개변수는 최솟값, 평균을 선택하는 변수\n",
        "# 두 번째 매개변수는 인자의 개수가 가변\n",
        "def func_7(flag, *args):\n",
        "  if flag == 'min':\n",
        "    result = args [0]\n",
        "    for i in args[1:]:\n",
        "      if result > i :\n",
        "        result = i\n",
        "  elif flag == 'mean':\n",
        "    result = 0\n",
        "    cnt = 0\n",
        "    for i in args:\n",
        "      result += i\n",
        "      cnt += 1\n",
        "    result /= cnt\n",
        "  return result\n"
      ],
      "metadata": {
        "id": "Ov8aHNQeP61I"
      },
      "execution_count": 73,
      "outputs": []
    },
    {
      "cell_type": "code",
      "source": [
        "print(func_7('min',1,4,5))\n",
        "print(func_7('mean',1,2,3,4,5))"
      ],
      "metadata": {
        "colab": {
          "base_uri": "https://localhost:8080/"
        },
        "id": "h4fuMDCDRLQo",
        "outputId": "6c7ed3e2-53b7-459d-cb6a-1aa51f309e92"
      },
      "execution_count": 79,
      "outputs": [
        {
          "output_type": "stream",
          "name": "stdout",
          "text": [
            "1\n",
            "3.0\n"
          ]
        }
      ]
    },
    {
      "cell_type": "code",
      "source": [],
      "metadata": {
        "id": "kI1BFbJ6Rv7Z"
      },
      "execution_count": null,
      "outputs": []
    }
  ]
}